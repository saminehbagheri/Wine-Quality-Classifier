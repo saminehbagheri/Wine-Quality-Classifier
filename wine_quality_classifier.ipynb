{
  "nbformat": 4,
  "nbformat_minor": 0,
  "metadata": {
    "colab": {
      "name": "wine-quality-classifier.ipynb",
      "version": "0.3.2",
      "provenance": [],
      "include_colab_link": true
    },
    "language_info": {
      "codemirror_mode": {
        "name": "ipython",
        "version": 3
      },
      "file_extension": ".py",
      "mimetype": "text/x-python",
      "name": "python",
      "nbconvert_exporter": "python",
      "pygments_lexer": "ipython3",
      "version": "3.6.4"
    },
    "kernelspec": {
      "display_name": "Python 3",
      "language": "python",
      "name": "python3"
    }
  },
  "cells": [
    {
      "cell_type": "markdown",
      "metadata": {
        "id": "view-in-github",
        "colab_type": "text"
      },
      "source": [
        "<a href=\"https://colab.research.google.com/github/saminehbagheri/Wine-Quality-Classifier/blob/master/wine_quality_classifier.ipynb\" target=\"_parent\"><img src=\"https://colab.research.google.com/assets/colab-badge.svg\" alt=\"Open In Colab\"/></a>"
      ]
    },
    {
      "cell_type": "markdown",
      "metadata": {
        "id": "x3-nbSPXBumQ",
        "colab_type": "text"
      },
      "source": [
        "In the following cell you clone a github repository to have access to the wine dataset."
      ]
    },
    {
      "cell_type": "code",
      "metadata": {
        "id": "-xk8MmvP5Z7v",
        "colab_type": "code",
        "outputId": "bc1c98d2-a001-4b3d-95b3-c4441c1e55f8",
        "colab": {
          "base_uri": "https://localhost:8080/",
          "height": 158
        }
      },
      "source": [
        "! git clone https://github.com/saminehbagheri/Wine-Quality-Classifier.git\n",
        "%cd Wine-Quality-Classifier  \n",
        "%ls"
      ],
      "execution_count": 19,
      "outputs": [
        {
          "output_type": "stream",
          "text": [
            "Cloning into 'Wine-Quality-Classifier'...\n",
            "remote: Enumerating objects: 6, done.\u001b[K\n",
            "remote: Counting objects: 100% (6/6), done.\u001b[K\n",
            "remote: Compressing objects: 100% (4/4), done.\u001b[K\n",
            "remote: Total 6 (delta 0), reused 0 (delta 0), pack-reused 0\u001b[K\n",
            "Unpacking objects: 100% (6/6), done.\n",
            "/content/Wine-Quality-Classifier/Wine-Quality-Classifier\n",
            "README.md  winequality-white.csv\n"
          ],
          "name": "stdout"
        }
      ]
    },
    {
      "cell_type": "markdown",
      "metadata": {
        "id": "kZZ3gkH-CDe5",
        "colab_type": "text"
      },
      "source": [
        "Now we import all the necessary libraries which  are going to be needed in this notebook. "
      ]
    },
    {
      "cell_type": "code",
      "metadata": {
        "id": "fk4wz_tV3BQQ",
        "colab_type": "code",
        "colab": {}
      },
      "source": [
        "from sklearn.model_selection import train_test_split #This  library is used for splitting our dataset into train and test datasets\n",
        "import keras #Keras is used for the neural network model\n",
        "from keras.models import Sequential\n",
        "from keras.layers import Dense\n",
        "from keras.utils.vis_utils import plot_model # This library gives us the possibility to visualize the used neural network model\n",
        "from IPython.display import Image # This library assists us to show a plot_model in the notebook\n",
        "#import pydot #graphics \n",
        "import numpy as np # We will work very often with numpy arrays and numpy mathemtical operations\n",
        "from scipy import stats # This library can be used to get a fast statostical analysis of the data\n",
        "import matplotlib.pyplot as plt\n"
      ],
      "execution_count": 0,
      "outputs": []
    },
    {
      "cell_type": "markdown",
      "metadata": {
        "id": "t2B8bDtb3BQT",
        "colab_type": "text"
      },
      "source": [
        "# Reading  &  Analysing the Data\n",
        "\n",
        "Here we start with the white wine data. Maybe you can go through the similar procedure with the red wine data if you are interested."
      ]
    },
    {
      "cell_type": "code",
      "metadata": {
        "id": "3J722pmA3BQU",
        "colab_type": "code",
        "outputId": "1bf26ad4-e7af-4924-f57e-e5bd0e94a542",
        "colab": {
          "base_uri": "https://localhost:8080/",
          "height": 34
        }
      },
      "source": [
        "#Reading the whole data in the whitewine numpy array\n",
        "whitewine = np.loadtxt('winequality-white.csv', delimiter=';',skiprows=1)\n",
        "print(whitewine.shape)\n"
      ],
      "execution_count": 21,
      "outputs": [
        {
          "output_type": "stream",
          "text": [
            "(4898, 12)\n"
          ],
          "name": "stdout"
        }
      ]
    },
    {
      "cell_type": "markdown",
      "metadata": {
        "id": "B3sUVkwxS5gO",
        "colab_type": "text"
      },
      "source": [
        "## Seperating the Input and Output Columns. \n",
        "\n",
        "In the wine quality dataset we have 4898 instances with 12 columns. The last column which is the quality column is the output column. The rest of columns are different features of each wine which are measurable."
      ]
    },
    {
      "cell_type": "code",
      "metadata": {
        "id": "vHyxZig8TU5w",
        "colab_type": "code",
        "colab": {
          "base_uri": "https://localhost:8080/",
          "height": 52
        },
        "outputId": "5d11cda7-105f-4a72-f273-78e641dec8f6"
      },
      "source": [
        "#Seperating the input and output\n",
        "myinput=np.delete(whitewine, -1, axis=1)\n",
        "output=whitewine[:,-1]\n",
        "print(stats.describe(output))\n",
        "minOut=np.min(output)\n",
        "maxOut=np.max(output)\n",
        "print(\"The output has \"+str(maxOut-minOut+1)+\" classes from \"+str(minOut)+\" to \"+str(maxOut))"
      ],
      "execution_count": 22,
      "outputs": [
        {
          "output_type": "stream",
          "text": [
            "DescribeResult(nobs=4898, minmax=(3.0, 9.0), mean=5.87790935075541, variance=0.7843556854710506, skewness=0.15574868141362455, kurtosis=0.21508011570192975)\n",
            "The output has 7.0 classes from 3.0 to 9.0\n"
          ],
          "name": "stdout"
        }
      ]
    },
    {
      "cell_type": "markdown",
      "metadata": {
        "id": "Pp9DRBlmUEzt",
        "colab_type": "text"
      },
      "source": [
        "## Normalizing The Input Array\n",
        "It is important to normalize the input columns. The input features have very different nature and different ranges. If we do not normalize these values it can be that some features will be overrated if they are in higher ranges and features having values in smaller range might be underrated, although they might be as important as other features. In the following cell we use a simple mean normalization approach to bring all the input columns in more or less similar ranges."
      ]
    },
    {
      "cell_type": "code",
      "metadata": {
        "id": "S43j3EkDI_fi",
        "colab_type": "code",
        "colab": {
          "base_uri": "https://localhost:8080/",
          "height": 369
        },
        "outputId": "feeae391-97e6-47d7-af94-085719bedd46"
      },
      "source": [
        "#mean normalization\n",
        "mu=np.average(myinput,axis=0) #calculating the mean of each column\n",
        "sd=np.std(myinput,axis=0)     #calculting the standard deviation of each column\n",
        "x=myinput-mu[None,:]          #subtracting the means from each column\n",
        "x=np.divide(x,sd[None,:])\n",
        "print(myinput)\n",
        "print(x)\n"
      ],
      "execution_count": 23,
      "outputs": [
        {
          "output_type": "stream",
          "text": [
            "[[ 7.    0.27  0.36 ...  3.    0.45  8.8 ]\n",
            " [ 6.3   0.3   0.34 ...  3.3   0.49  9.5 ]\n",
            " [ 8.1   0.28  0.4  ...  3.26  0.44 10.1 ]\n",
            " ...\n",
            " [ 6.5   0.24  0.19 ...  2.99  0.46  9.4 ]\n",
            " [ 5.5   0.29  0.3  ...  3.34  0.38 12.8 ]\n",
            " [ 6.    0.21  0.38 ...  3.26  0.32 11.8 ]]\n",
            "[[ 1.72096961e-01 -8.17699008e-02  2.13280202e-01 ... -1.24692128e+00\n",
            "  -3.49184257e-01 -1.39315246e+00]\n",
            " [-6.57501128e-01  2.15895632e-01  4.80011213e-02 ...  7.40028640e-01\n",
            "   1.34184656e-03 -8.24275678e-01]\n",
            " [ 1.47575110e+00  1.74519434e-02  5.43838363e-01 ...  4.75101984e-01\n",
            "  -4.36815783e-01 -3.36667007e-01]\n",
            " ...\n",
            " [-4.20473102e-01 -3.79435433e-01 -1.19159198e+00 ... -1.31315295e+00\n",
            "  -2.61552731e-01 -9.05543789e-01]\n",
            " [-1.60561323e+00  1.16673788e-01 -2.82557040e-01 ...  1.00495530e+00\n",
            "  -9.62604939e-01  1.85757201e+00]\n",
            " [-1.01304317e+00 -6.77100966e-01  3.78559282e-01 ...  4.75101984e-01\n",
            "  -1.48839409e+00  1.04489089e+00]]\n"
          ],
          "name": "stdout"
        }
      ]
    },
    {
      "cell_type": "markdown",
      "metadata": {
        "id": "5C-aGj40YZOK",
        "colab_type": "text"
      },
      "source": [
        "## Modifying the Output Column\n",
        "\n",
        "At the moment the output column ('quality' column) has values from 3 (low quality) to 9 (high quality) wine classes.  Basically we have 7 different classes all packed in one column. As we want to do a multi-class classification we need 7 output neurons for each possible class. Therefore, we should convert the last column to 7 columns. Running the following cell generates a 4898 x 7 dimensional array which can be used as the output array. \n",
        "\n",
        "In this notebook we address a multiclass classification. If you are interested you can try to build a binary classifier, predicting if a wine has bad quality (quality:3-5) or good quality (quality:4-9). How should we change the following cell to generate a proper output array for binary classification? How many output neurons are we going to need?\n",
        "\n"
      ]
    },
    {
      "cell_type": "code",
      "metadata": {
        "id": "FGz2jq9QYRhV",
        "colab_type": "code",
        "colab": {}
      },
      "source": [
        "output=output-3\n",
        "y=np.zeros([output.shape[0],7])\n",
        "for i in range(output.shape[0]):\n",
        "    if (output[i]==0):\n",
        "        y[i,:]=[0,0,0,0,0,0,1]\n",
        "    if (output[i]==1):\n",
        "        y[i,:]=[0,0,0,0,0,1,0]\n",
        "    if (output[i]==2):\n",
        "        y[i,:]=[0,0,0,0,1,0,0]\n",
        "    if (output[i]==3):\n",
        "        y[i,:]=[0,0,0,1,0,0,0]\n",
        "    if (output[i]==4):\n",
        "        y[i,:]=[0,0,1,0,0,0,0]    \n",
        "    if (output[i]==5):\n",
        "        y[i,:]=[0,1,0,0,0,0,0]\n",
        "    if (output[i]==6):\n",
        "        y[i,:]=[1,0,0,0,0,0,0]"
      ],
      "execution_count": 0,
      "outputs": []
    },
    {
      "cell_type": "markdown",
      "metadata": {
        "id": "wFpxBBfybSAD",
        "colab_type": "text"
      },
      "source": [
        "# Splitting Training and Test Datasets\n",
        "\n",
        "In order to be able to asses the quality of our NN model, it is important to evaluate the model on a set of unseen data which were not used during the training procedure. In the next cell we use a sklearn splitting function to seperate training and test datasets. It is very common to use 10 to 20 percent of the data for test and the rest for the training. As we have a relatively small dataset we use 90 percent of the data for training and the remaining 10 percent for testing."
      ]
    },
    {
      "cell_type": "code",
      "metadata": {
        "id": "k4zcnN1T3BQZ",
        "colab_type": "code",
        "outputId": "f8e1ca7b-fe97-4c38-b584-6e9e4bc49be9",
        "colab": {
          "base_uri": "https://localhost:8080/",
          "height": 87
        }
      },
      "source": [
        "xTrain, xTest, yTrain, yTest = train_test_split(x, y, test_size = 0.1, random_state = 0)\n",
        "print(xTrain.shape)\n",
        "print(yTrain.shape)\n",
        "print(xTest.shape)\n",
        "print(yTest.shape)\n"
      ],
      "execution_count": 25,
      "outputs": [
        {
          "output_type": "stream",
          "text": [
            "(4408, 11)\n",
            "(4408, 7)\n",
            "(490, 11)\n",
            "(490, 7)\n"
          ],
          "name": "stdout"
        }
      ]
    },
    {
      "cell_type": "markdown",
      "metadata": {
        "id": "2wszH-YzfLFH",
        "colab_type": "text"
      },
      "source": [
        "# Defining and Visualising Our Neural Network with Keras"
      ]
    },
    {
      "cell_type": "code",
      "metadata": {
        "id": "ElXBWIiZ3BQc",
        "colab_type": "code",
        "outputId": "ff2a5f6f-ba0a-4de1-87f3-e059c7f7c1dc",
        "colab": {
          "base_uri": "https://localhost:8080/",
          "height": 157
        }
      },
      "source": [
        "model = Sequential()\n",
        "l0=11\n",
        "l1=50\n",
        "#2=50\n",
        "#l3=50\n",
        "lf=7\n",
        "model.add(Dense(units=l1, activation='relu', input_dim=l0))\n",
        "#odel.add(Dense(units=l2, activation='relu', input_dim=l1))\n",
        "#model.add(Dense(units=l3, activation='relu', input_dim=l2))\n",
        "model.add(Dense(units=lf, activation='softmax'))\n",
        "modelplot=plot_model(model, to_file='model_plot.png', show_shapes=True, show_layer_names=True)\n",
        "Image(retina=True, filename='model_plot.png')\n"
      ],
      "execution_count": 46,
      "outputs": [
        {
          "output_type": "execute_result",
          "data": {
            "image/png": "[encoded data removed]",
            "text/plain": [
              "<IPython.core.display.Image object>"
            ]
          },
          "metadata": {
            "tags": [],
            "image/png": {
              "width": 173,
              "height": 140
            }
          },
          "execution_count": 46
        }
      ]
    },
    {
      "cell_type": "markdown",
      "metadata": {
        "id": "k6N00jEKfVqM",
        "colab_type": "text"
      },
      "source": [
        "# Compiling and Training the Model"
      ]
    },
    {
      "cell_type": "code",
      "metadata": {
        "id": "ldFIywIMAe9A",
        "colab_type": "code",
        "outputId": "235e80ed-c663-402d-c544-8621e09428f8",
        "colab": {
          "base_uri": "https://localhost:8080/",
          "height": 5593
        }
      },
      "source": [
        "model.compile(loss=keras.losses.categorical_crossentropy,\n",
        "              optimizer=keras.optimizers.SGD(lr=0.05, momentum=0.0, nesterov=True))\n",
        "\n",
        "#model.fit(xTrain, yTrain, epochs=200, batch_size=10)\n",
        "\n",
        "history = model.fit(x, y, validation_split=0.2, epochs=150, batch_size=10, verbose=1)\n",
        "# Plot training & validation loss values\n",
        "plt.plot(history.history['loss'])\n",
        "plt.plot(history.history['val_loss'])\n",
        "plt.title('Model loss')\n",
        "plt.ylabel('Loss')\n",
        "plt.xlabel('Epoch')\n",
        "plt.legend(['Train', 'Test'], loc='upper left')\n",
        "plt.show()"
      ],
      "execution_count": 47,
      "outputs": [
        {
          "output_type": "stream",
          "text": [
            "Train on 3918 samples, validate on 980 samples\n",
            "Epoch 1/150\n",
            "3918/3918 [==============================] - 1s 378us/step - loss: 1.2435 - val_loss: 1.1182\n",
            "Epoch 2/150\n",
            "3918/3918 [==============================] - 1s 169us/step - loss: 1.1183 - val_loss: 1.0266\n",
            "Epoch 3/150\n",
            "3918/3918 [==============================] - 1s 168us/step - loss: 1.0983 - val_loss: 0.9930\n",
            "Epoch 4/150\n",
            "3918/3918 [==============================] - 1s 176us/step - loss: 1.0811 - val_loss: 1.0269\n",
            "Epoch 5/150\n",
            "3918/3918 [==============================] - 0s 126us/step - loss: 1.0710 - val_loss: 1.0082\n",
            "Epoch 6/150\n",
            "3918/3918 [==============================] - 0s 124us/step - loss: 1.0628 - val_loss: 0.9590\n",
            "Epoch 7/150\n",
            "3918/3918 [==============================] - 0s 123us/step - loss: 1.0554 - val_loss: 0.9997\n",
            "Epoch 8/150\n",
            "3918/3918 [==============================] - 0s 122us/step - loss: 1.0448 - val_loss: 0.9848\n",
            "Epoch 9/150\n",
            "3918/3918 [==============================] - 0s 122us/step - loss: 1.0408 - val_loss: 0.9600\n",
            "Epoch 10/150\n",
            "3918/3918 [==============================] - 0s 126us/step - loss: 1.0408 - val_loss: 1.0099\n",
            "Epoch 11/150\n",
            "3918/3918 [==============================] - 0s 121us/step - loss: 1.0333 - val_loss: 0.9505\n",
            "Epoch 12/150\n",
            "3918/3918 [==============================] - 0s 126us/step - loss: 1.0294 - val_loss: 0.9509\n",
            "Epoch 13/150\n",
            "3918/3918 [==============================] - 0s 121us/step - loss: 1.0243 - val_loss: 1.0164\n",
            "Epoch 14/150\n",
            "3918/3918 [==============================] - 0s 119us/step - loss: 1.0238 - val_loss: 0.9636\n",
            "Epoch 15/150\n",
            "3918/3918 [==============================] - 0s 119us/step - loss: 1.0198 - val_loss: 0.9503\n",
            "Epoch 16/150\n",
            "3918/3918 [==============================] - 0s 122us/step - loss: 1.0164 - val_loss: 0.9909\n",
            "Epoch 17/150\n",
            "3918/3918 [==============================] - 0s 121us/step - loss: 1.0135 - val_loss: 0.9546\n",
            "Epoch 18/150\n",
            "3918/3918 [==============================] - 0s 118us/step - loss: 1.0112 - val_loss: 0.9367\n",
            "Epoch 19/150\n",
            "3918/3918 [==============================] - 0s 122us/step - loss: 1.0091 - val_loss: 0.9875\n",
            "Epoch 20/150\n",
            "3918/3918 [==============================] - 0s 122us/step - loss: 1.0043 - val_loss: 0.9829\n",
            "Epoch 21/150\n",
            "3918/3918 [==============================] - 0s 122us/step - loss: 0.9997 - val_loss: 0.9760\n",
            "Epoch 22/150\n",
            "3918/3918 [==============================] - 0s 117us/step - loss: 0.9997 - val_loss: 1.0004\n",
            "Epoch 23/150\n",
            "3918/3918 [==============================] - 0s 122us/step - loss: 0.9997 - val_loss: 0.9429\n",
            "Epoch 24/150\n",
            "3918/3918 [==============================] - 0s 123us/step - loss: 0.9968 - val_loss: 0.9478\n",
            "Epoch 25/150\n",
            "3918/3918 [==============================] - 0s 123us/step - loss: 0.9931 - val_loss: 0.9592\n",
            "Epoch 26/150\n",
            "3918/3918 [==============================] - 0s 126us/step - loss: 0.9938 - val_loss: 0.9525\n",
            "Epoch 27/150\n",
            "3918/3918 [==============================] - 1s 133us/step - loss: 0.9902 - val_loss: 0.9850\n",
            "Epoch 28/150\n",
            "3918/3918 [==============================] - 0s 120us/step - loss: 0.9886 - val_loss: 0.9584\n",
            "Epoch 29/150\n",
            "3918/3918 [==============================] - 1s 129us/step - loss: 0.9877 - val_loss: 1.0182\n",
            "Epoch 30/150\n",
            "3918/3918 [==============================] - 0s 121us/step - loss: 0.9862 - val_loss: 1.0517\n",
            "Epoch 31/150\n",
            "3918/3918 [==============================] - 0s 120us/step - loss: 0.9862 - val_loss: 1.0281\n",
            "Epoch 32/150\n",
            "3918/3918 [==============================] - 0s 121us/step - loss: 0.9849 - val_loss: 0.9794\n",
            "Epoch 33/150\n",
            "3918/3918 [==============================] - 0s 121us/step - loss: 0.9836 - val_loss: 1.0059\n",
            "Epoch 34/150\n",
            "3918/3918 [==============================] - 0s 120us/step - loss: 0.9820 - val_loss: 0.9459\n",
            "Epoch 35/150\n",
            "3918/3918 [==============================] - 0s 126us/step - loss: 0.9765 - val_loss: 0.9554\n",
            "Epoch 36/150\n",
            "3918/3918 [==============================] - 0s 123us/step - loss: 0.9805 - val_loss: 0.9772\n",
            "Epoch 37/150\n",
            "3918/3918 [==============================] - 1s 133us/step - loss: 0.9754 - val_loss: 1.0025\n",
            "Epoch 38/150\n",
            "3918/3918 [==============================] - 0s 122us/step - loss: 0.9755 - val_loss: 1.0376\n",
            "Epoch 39/150\n",
            "3918/3918 [==============================] - 0s 119us/step - loss: 0.9703 - val_loss: 1.0381\n",
            "Epoch 40/150\n",
            "3918/3918 [==============================] - 0s 121us/step - loss: 0.9706 - val_loss: 1.0118\n",
            "Epoch 41/150\n",
            "3918/3918 [==============================] - 0s 126us/step - loss: 0.9706 - val_loss: 1.0616\n",
            "Epoch 42/150\n",
            "3918/3918 [==============================] - 0s 123us/step - loss: 0.9673 - val_loss: 0.9364\n",
            "Epoch 43/150\n",
            "3918/3918 [==============================] - 0s 119us/step - loss: 0.9712 - val_loss: 1.0209\n",
            "Epoch 44/150\n",
            "3918/3918 [==============================] - 0s 120us/step - loss: 0.9701 - val_loss: 0.9900\n",
            "Epoch 45/150\n",
            "3918/3918 [==============================] - 0s 126us/step - loss: 0.9694 - val_loss: 0.9576\n",
            "Epoch 46/150\n",
            "3918/3918 [==============================] - 0s 124us/step - loss: 0.9662 - val_loss: 0.9646\n",
            "Epoch 47/150\n",
            "3918/3918 [==============================] - 1s 128us/step - loss: 0.9682 - val_loss: 0.9624\n",
            "Epoch 48/150\n",
            "3918/3918 [==============================] - 0s 126us/step - loss: 0.9661 - val_loss: 0.9573\n",
            "Epoch 49/150\n",
            "3918/3918 [==============================] - 0s 125us/step - loss: 0.9662 - val_loss: 1.0115\n",
            "Epoch 50/150\n",
            "3918/3918 [==============================] - 0s 125us/step - loss: 0.9666 - val_loss: 1.0771\n",
            "Epoch 51/150\n",
            "3918/3918 [==============================] - 0s 123us/step - loss: 0.9612 - val_loss: 0.9865\n",
            "Epoch 52/150\n",
            "3918/3918 [==============================] - 0s 121us/step - loss: 0.9662 - val_loss: 1.0318\n",
            "Epoch 53/150\n",
            "3918/3918 [==============================] - 0s 126us/step - loss: 0.9580 - val_loss: 1.0466\n",
            "Epoch 54/150\n",
            "3918/3918 [==============================] - 0s 123us/step - loss: 0.9596 - val_loss: 1.0009\n",
            "Epoch 55/150\n",
            "3918/3918 [==============================] - 0s 121us/step - loss: 0.9581 - val_loss: 0.9992\n",
            "Epoch 56/150\n",
            "3918/3918 [==============================] - 0s 121us/step - loss: 0.9649 - val_loss: 0.9874\n",
            "Epoch 57/150\n",
            "3918/3918 [==============================] - 0s 128us/step - loss: 0.9571 - val_loss: 1.0043\n",
            "Epoch 58/150\n",
            "3918/3918 [==============================] - 0s 119us/step - loss: 0.9519 - val_loss: 1.0069\n",
            "Epoch 59/150\n",
            "3918/3918 [==============================] - 0s 119us/step - loss: 0.9570 - val_loss: 0.9836\n",
            "Epoch 60/150\n",
            "3918/3918 [==============================] - 0s 125us/step - loss: 0.9587 - val_loss: 0.9911\n",
            "Epoch 61/150\n",
            "3918/3918 [==============================] - 0s 122us/step - loss: 0.9492 - val_loss: 0.9924\n",
            "Epoch 62/150\n",
            "3918/3918 [==============================] - 0s 123us/step - loss: 0.9566 - val_loss: 0.9645\n",
            "Epoch 63/150\n",
            "3918/3918 [==============================] - 0s 120us/step - loss: 0.9542 - val_loss: 1.0024\n",
            "Epoch 64/150\n",
            "3918/3918 [==============================] - 0s 122us/step - loss: 0.9548 - val_loss: 1.0853\n",
            "Epoch 65/150\n",
            "3918/3918 [==============================] - 0s 121us/step - loss: 0.9482 - val_loss: 1.0705\n",
            "Epoch 66/150\n",
            "3918/3918 [==============================] - 1s 130us/step - loss: 0.9473 - val_loss: 0.9912\n",
            "Epoch 67/150\n",
            "3918/3918 [==============================] - 0s 123us/step - loss: 0.9473 - val_loss: 1.0403\n",
            "Epoch 68/150\n",
            "3918/3918 [==============================] - 0s 127us/step - loss: 0.9502 - val_loss: 1.0442\n",
            "Epoch 69/150\n",
            "3918/3918 [==============================] - 0s 118us/step - loss: 0.9468 - val_loss: 0.9877\n",
            "Epoch 70/150\n",
            "3918/3918 [==============================] - 0s 123us/step - loss: 0.9526 - val_loss: 1.0631\n",
            "Epoch 71/150\n",
            "3918/3918 [==============================] - 0s 121us/step - loss: 0.9474 - val_loss: 1.0279\n",
            "Epoch 72/150\n",
            "3918/3918 [==============================] - 0s 125us/step - loss: 0.9470 - val_loss: 0.9579\n",
            "Epoch 73/150\n",
            "3918/3918 [==============================] - 0s 120us/step - loss: 0.9445 - val_loss: 1.0452\n",
            "Epoch 74/150\n",
            "3918/3918 [==============================] - 0s 125us/step - loss: 0.9510 - val_loss: 1.0275\n",
            "Epoch 75/150\n",
            "3918/3918 [==============================] - 0s 120us/step - loss: 0.9437 - val_loss: 1.0385\n",
            "Epoch 76/150\n",
            "3918/3918 [==============================] - 0s 122us/step - loss: 0.9467 - val_loss: 1.0522\n",
            "Epoch 77/150\n",
            "3918/3918 [==============================] - 0s 121us/step - loss: 0.9497 - val_loss: 1.0367\n",
            "Epoch 78/150\n",
            "3918/3918 [==============================] - 0s 121us/step - loss: 0.9442 - val_loss: 1.1080\n",
            "Epoch 79/150\n",
            "3918/3918 [==============================] - 0s 125us/step - loss: 0.9473 - val_loss: 1.0709\n",
            "Epoch 80/150\n",
            "3918/3918 [==============================] - 0s 119us/step - loss: 0.9453 - val_loss: 1.0958\n",
            "Epoch 81/150\n",
            "3918/3918 [==============================] - 0s 120us/step - loss: 0.9454 - val_loss: 0.9984\n",
            "Epoch 82/150\n",
            "3918/3918 [==============================] - 0s 123us/step - loss: 0.9454 - val_loss: 1.0460\n",
            "Epoch 83/150\n",
            "3918/3918 [==============================] - 0s 125us/step - loss: 0.9399 - val_loss: 1.0374\n",
            "Epoch 84/150\n",
            "3918/3918 [==============================] - 0s 124us/step - loss: 0.9394 - val_loss: 0.9994\n",
            "Epoch 85/150\n",
            "3918/3918 [==============================] - 0s 127us/step - loss: 0.9412 - val_loss: 1.1614\n",
            "Epoch 86/150\n",
            "3918/3918 [==============================] - 0s 121us/step - loss: 0.9474 - val_loss: 1.0803\n",
            "Epoch 87/150\n",
            "3918/3918 [==============================] - 1s 130us/step - loss: 0.9390 - val_loss: 1.1003\n",
            "Epoch 88/150\n",
            "3918/3918 [==============================] - 0s 121us/step - loss: 0.9435 - val_loss: 1.0090\n",
            "Epoch 89/150\n",
            "3918/3918 [==============================] - 1s 129us/step - loss: 0.9389 - val_loss: 1.0591\n",
            "Epoch 90/150\n",
            "3918/3918 [==============================] - 1s 128us/step - loss: 0.9391 - val_loss: 1.0160\n",
            "Epoch 91/150\n",
            "3918/3918 [==============================] - 1s 131us/step - loss: 0.9369 - val_loss: 1.0309\n",
            "Epoch 92/150\n",
            "3918/3918 [==============================] - 0s 124us/step - loss: 0.9404 - val_loss: 0.9932\n",
            "Epoch 93/150\n",
            "3918/3918 [==============================] - 0s 124us/step - loss: 0.9404 - val_loss: 1.0454\n",
            "Epoch 94/150\n",
            "3918/3918 [==============================] - 0s 125us/step - loss: 0.9402 - val_loss: 1.0459\n",
            "Epoch 95/150\n",
            "3918/3918 [==============================] - 1s 134us/step - loss: 0.9367 - val_loss: 1.0051\n",
            "Epoch 96/150\n",
            "3918/3918 [==============================] - 0s 123us/step - loss: 0.9394 - val_loss: 1.0021\n",
            "Epoch 97/150\n",
            "3918/3918 [==============================] - 1s 134us/step - loss: 0.9384 - val_loss: 1.0225\n",
            "Epoch 98/150\n",
            "3918/3918 [==============================] - 1s 129us/step - loss: 0.9364 - val_loss: 0.9998\n",
            "Epoch 99/150\n",
            "3918/3918 [==============================] - 0s 127us/step - loss: 0.9326 - val_loss: 1.0233\n",
            "Epoch 100/150\n",
            "3918/3918 [==============================] - 0s 124us/step - loss: 0.9414 - val_loss: 1.0300\n",
            "Epoch 101/150\n",
            "3918/3918 [==============================] - 1s 128us/step - loss: 0.9364 - val_loss: 0.9979\n",
            "Epoch 102/150\n",
            "3918/3918 [==============================] - 0s 126us/step - loss: 0.9362 - val_loss: 1.0414\n",
            "Epoch 103/150\n",
            "3918/3918 [==============================] - 0s 127us/step - loss: 0.9330 - val_loss: 1.1094\n",
            "Epoch 104/150\n",
            "3918/3918 [==============================] - 0s 121us/step - loss: 0.9380 - val_loss: 1.0767\n",
            "Epoch 105/150\n",
            "3918/3918 [==============================] - 0s 123us/step - loss: 0.9327 - val_loss: 1.0917\n",
            "Epoch 106/150\n",
            "3918/3918 [==============================] - 0s 122us/step - loss: 0.9360 - val_loss: 1.0835\n",
            "Epoch 107/150\n",
            "3918/3918 [==============================] - 1s 129us/step - loss: 0.9371 - val_loss: 1.1025\n",
            "Epoch 108/150\n",
            "3918/3918 [==============================] - 0s 122us/step - loss: 0.9391 - val_loss: 1.0611\n",
            "Epoch 109/150\n",
            "3918/3918 [==============================] - 0s 127us/step - loss: 0.9345 - val_loss: 1.0993\n",
            "Epoch 110/150\n",
            "3918/3918 [==============================] - 0s 122us/step - loss: 0.9356 - val_loss: 1.0603\n",
            "Epoch 111/150\n",
            "3918/3918 [==============================] - 1s 132us/step - loss: 0.9383 - val_loss: 1.1363\n",
            "Epoch 112/150\n",
            "3918/3918 [==============================] - 0s 119us/step - loss: 0.9339 - val_loss: 1.0571\n",
            "Epoch 113/150\n",
            "3918/3918 [==============================] - 0s 124us/step - loss: 0.9322 - val_loss: 1.0833\n",
            "Epoch 114/150\n",
            "3918/3918 [==============================] - 0s 119us/step - loss: 0.9340 - val_loss: 1.0556\n",
            "Epoch 115/150\n",
            "3918/3918 [==============================] - 1s 128us/step - loss: 0.9319 - val_loss: 1.1213\n",
            "Epoch 116/150\n",
            "3918/3918 [==============================] - 0s 122us/step - loss: 0.9341 - val_loss: 1.0687\n",
            "Epoch 117/150\n",
            "3918/3918 [==============================] - 0s 119us/step - loss: 0.9316 - val_loss: 1.0592\n",
            "Epoch 118/150\n",
            "3918/3918 [==============================] - 0s 121us/step - loss: 0.9353 - val_loss: 1.0386\n",
            "Epoch 119/150\n",
            "3918/3918 [==============================] - 0s 121us/step - loss: 0.9334 - val_loss: 1.0898\n",
            "Epoch 120/150\n",
            "3918/3918 [==============================] - 0s 121us/step - loss: 0.9251 - val_loss: 1.1386\n",
            "Epoch 121/150\n",
            "3918/3918 [==============================] - 0s 121us/step - loss: 0.9309 - val_loss: 1.0690\n",
            "Epoch 122/150\n",
            "3918/3918 [==============================] - 0s 121us/step - loss: 0.9306 - val_loss: 1.1365\n",
            "Epoch 123/150\n",
            "3918/3918 [==============================] - 1s 128us/step - loss: 0.9247 - val_loss: 1.0898\n",
            "Epoch 124/150\n",
            "3918/3918 [==============================] - 0s 121us/step - loss: 0.9311 - val_loss: 1.0317\n",
            "Epoch 125/150\n",
            "3918/3918 [==============================] - 0s 121us/step - loss: 0.9308 - val_loss: 1.0566\n",
            "Epoch 126/150\n",
            "3918/3918 [==============================] - 0s 121us/step - loss: 0.9210 - val_loss: 1.0464\n",
            "Epoch 127/150\n",
            "3918/3918 [==============================] - 0s 124us/step - loss: 0.9298 - val_loss: 1.0974\n",
            "Epoch 128/150\n",
            "3918/3918 [==============================] - 0s 126us/step - loss: 0.9260 - val_loss: 1.1072\n",
            "Epoch 129/150\n",
            "3918/3918 [==============================] - 0s 121us/step - loss: 0.9298 - val_loss: 0.9964\n",
            "Epoch 130/150\n",
            "3918/3918 [==============================] - 0s 122us/step - loss: 0.9303 - val_loss: 1.1156\n",
            "Epoch 131/150\n",
            "3918/3918 [==============================] - 0s 125us/step - loss: 0.9300 - val_loss: 1.1595\n",
            "Epoch 132/150\n",
            "3918/3918 [==============================] - 0s 121us/step - loss: 0.9254 - val_loss: 1.0551\n",
            "Epoch 133/150\n",
            "3918/3918 [==============================] - 0s 125us/step - loss: 0.9321 - val_loss: 1.1245\n",
            "Epoch 134/150\n",
            "3918/3918 [==============================] - 0s 126us/step - loss: 0.9278 - val_loss: 1.2258\n",
            "Epoch 135/150\n",
            "3918/3918 [==============================] - 0s 124us/step - loss: 0.9228 - val_loss: 1.0753\n",
            "Epoch 136/150\n",
            "3918/3918 [==============================] - 1s 128us/step - loss: 0.9234 - val_loss: 1.0582\n",
            "Epoch 137/150\n",
            "3918/3918 [==============================] - 0s 122us/step - loss: 0.9233 - val_loss: 1.0829\n",
            "Epoch 138/150\n",
            "3918/3918 [==============================] - 0s 119us/step - loss: 0.9216 - val_loss: 1.0921\n",
            "Epoch 139/150\n",
            "3918/3918 [==============================] - 0s 121us/step - loss: 0.9271 - val_loss: 1.0970\n",
            "Epoch 140/150\n",
            "3918/3918 [==============================] - 1s 131us/step - loss: 0.9213 - val_loss: 1.0731\n",
            "Epoch 141/150\n",
            "3918/3918 [==============================] - 0s 121us/step - loss: 0.9237 - val_loss: 1.0535\n",
            "Epoch 142/150\n",
            "3918/3918 [==============================] - 0s 121us/step - loss: 0.9203 - val_loss: 1.1080\n",
            "Epoch 143/150\n",
            "3918/3918 [==============================] - 0s 121us/step - loss: 0.9207 - val_loss: 1.1020\n",
            "Epoch 144/150\n",
            "3918/3918 [==============================] - 0s 122us/step - loss: 0.9278 - val_loss: 1.0534\n",
            "Epoch 145/150\n",
            "3918/3918 [==============================] - 0s 126us/step - loss: 0.9223 - val_loss: 1.1344\n",
            "Epoch 146/150\n",
            "3918/3918 [==============================] - 0s 123us/step - loss: 0.9183 - val_loss: 1.1243\n",
            "Epoch 147/150\n",
            "3918/3918 [==============================] - 0s 122us/step - loss: 0.9237 - val_loss: 1.0317\n",
            "Epoch 148/150\n",
            "3918/3918 [==============================] - 1s 132us/step - loss: 0.9188 - val_loss: 1.1043\n",
            "Epoch 149/150\n",
            "3918/3918 [==============================] - 0s 126us/step - loss: 0.9207 - val_loss: 1.1865\n",
            "Epoch 150/150\n",
            "3918/3918 [==============================] - 1s 128us/step - loss: 0.9168 - val_loss: 1.0843\n"
          ],
          "name": "stdout"
        },
        {
          "output_type": "display_data",
          "data": {
            "image/png": "[encoded data removed]",
            "text/plain": [
              "<Figure size 432x288 with 1 Axes>"
            ]
          },
          "metadata": {
            "tags": []
          }
        }
      ]
    },
    {
      "cell_type": "markdown",
      "metadata": {
        "id": "F5jcJe92vgrR",
        "colab_type": "text"
      },
      "source": [
        "We can see that the training error is gradually decreasing, similar to the test error in the first iterations but at some point around 50 Epoches, we can see that test error starts to increase. Maybe you can try to answer the following questions:\n",
        "* How do you explain this behavior? \n",
        "* How do you evaluate the generated model?\n",
        "* Do you think that our model is generic and reliable or is it overfitted? \n",
        "* How can we improve our model?"
      ]
    },
    {
      "cell_type": "markdown",
      "metadata": {
        "id": "YrAgqA_TgTNu",
        "colab_type": "text"
      },
      "source": [
        "# Testing the Model on the Test Dataset"
      ]
    },
    {
      "cell_type": "code",
      "metadata": {
        "id": "i_IVGeOZ3BQe",
        "colab_type": "code",
        "outputId": "3d677037-c0f7-4b04-cb66-31130e5ddeea",
        "colab": {
          "base_uri": "https://localhost:8080/",
          "height": 52
        }
      },
      "source": [
        "loss_and_metrics = model.evaluate(xTest, yTest, batch_size=128)\n",
        "print(loss_and_metrics)\n",
        "#classes = model.predict(xTest, batch_size=128)\n",
        "#print(classes[140,:])\n",
        "#print(yTest[140,:])\n"
      ],
      "execution_count": 30,
      "outputs": [
        {
          "output_type": "stream",
          "text": [
            "490/490 [==============================] - 0s 15us/step\n",
            "3.063570042045749\n"
          ],
          "name": "stdout"
        }
      ]
    }
  ]
}